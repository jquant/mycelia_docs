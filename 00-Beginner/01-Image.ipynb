{
 "cells": [
  {
   "cell_type": "markdown",
   "metadata": {
    "toc": true
   },
   "source": [
    "<h1>Table of Contents<span class=\"tocSkip\"></span></h1>\n",
    "<div class=\"toc\"><ul class=\"toc-item\"><li><span><a href=\"#Recomendando-compras-para-e-commerce\" data-toc-modified-id=\"Recomendando-compras-para-e-commerce-1\"><span class=\"toc-item-num\">1&nbsp;&nbsp;</span>Recomendando compras para e-commerce</a></span></li><li><span><a href=\"#Passos-que-daremos\" data-toc-modified-id=\"Passos-que-daremos-2\"><span class=\"toc-item-num\">2&nbsp;&nbsp;</span>Passos que daremos</a></span><ul class=\"toc-item\"><li><span><a href=\"#Subscription\" data-toc-modified-id=\"Subscription-2.1\"><span class=\"toc-item-num\">2.1&nbsp;&nbsp;</span>Subscription</a></span></li><li><span><a href=\"#Criando-um-produto\" data-toc-modified-id=\"Criando-um-produto-2.2\"><span class=\"toc-item-num\">2.2&nbsp;&nbsp;</span>Criando um produto</a></span></li><li><span><a href=\"#Código-para-enviarmos-imagens\" data-toc-modified-id=\"Código-para-enviarmos-imagens-2.3\"><span class=\"toc-item-num\">2.3&nbsp;&nbsp;</span>Código para enviarmos imagens</a></span><ul class=\"toc-item\"><li><span><a href=\"#As-constantes-do-código-acima\" data-toc-modified-id=\"As-constantes-do-código-acima-2.3.1\"><span class=\"toc-item-num\">2.3.1&nbsp;&nbsp;</span>As constantes do código acima</a></span></li></ul></li><li><span><a href=\"#Código-que-retorna-os-K-itens-mais-similares-a-um-item-qualquer\" data-toc-modified-id=\"Código-que-retorna-os-K-itens-mais-similares-a-um-item-qualquer-2.4\"><span class=\"toc-item-num\">2.4&nbsp;&nbsp;</span>Código que retorna os K itens mais similares a um item qualquer</a></span></li></ul></li></ul></div>"
   ]
  },
  {
   "cell_type": "markdown",
   "metadata": {},
   "source": [
    "# Recomendando compras para e-commerce\n",
    "\n",
    "Suponha que você possua um e-commerce que venda roupas e acessórios de moda. Para todo cliente que entra no seu site, você gostaria de mostrar sugestões de compras, para isso, pegamos os 5 itens mais similares ao item que ele está procurando e mostramos na página do site como sugestão.<br>\n",
    "\n",
    "O que chamamos de similaridade aqui é uma medida de quanto um item se parece com o outro. Assumimos que se o cliente estiver procurando por uma camiseta de time, ele iria gostar de ver outras camisetas de time e não um óculos de natação.<br>\n",
    "\n",
    "De uma maneira bem simples, o que queremos fazer é um sistema de recomendação _\"Content Base\"_, ou seja, baseado apenas no item que o cliente está procurando no momento, não estamos levando em conta o histórico completo dele e nem as compras que ele efetuou.<br>\n",
    "\n",
    "Para isso, iremos usar como base a plataforma [mycelia](https://mycelia.developer.azure-api.net/)."
   ]
  },
  {
   "cell_type": "markdown",
   "metadata": {},
   "source": [
    "# Passos que daremos\n",
    "\n",
    "Vamos mostrar todos os passos e códigos que precisamos usar para interagir com o [mycelia](https://mycelia.developer.azure-api.net/) e ter um retorno dos **k** itens mais similares a um item qualquer que quisermos. Os passos do tutorial serão:\n",
    "\n",
    "1. Fazer o subscription na plataforma\n",
    "2. Criar um produto para termos uma chave de autenticação.\n",
    "3. Criar e rodar o código para enviarmos imagens ao mycelia\n",
    "4. Retornar e visualizar os k itens mais similares a um item qualquer"
   ]
  },
  {
   "cell_type": "markdown",
   "metadata": {},
   "source": [
    "##  Subscription\n",
    "\n",
    "Para fazermos uso da similaridade por imagens, precisamos fazer o subscription na plataforma. Primeiro, entre no portal do [mycelia](https://mycelia.developer.azure-api.net/) e clique em **Sign Up** como indicado na imagem."
   ]
  },
  {
   "cell_type": "markdown",
   "metadata": {},
   "source": [
    "![title](tutorial_images/sign_up.PNG)"
   ]
  },
  {
   "cell_type": "markdown",
   "metadata": {},
   "source": [
    "Você cairá na página da imagem abaixo. Preencha com os seus dados, escolha uma senha e clique em **Sign Up** no final da página."
   ]
  },
  {
   "cell_type": "markdown",
   "metadata": {},
   "source": [
    "![title](tutorial_images/sign_up_2.PNG)"
   ]
  },
  {
   "cell_type": "markdown",
   "metadata": {},
   "source": [
    "Após esse processo, você receberá um email para confirmar sua inscrição na plataforma. Coonfirme e pronto, você está habilitado para usar tudo que o [mycelia](https://mycelia.developer.azure-api.net/) oferece e outras coisas mais."
   ]
  },
  {
   "cell_type": "markdown",
   "metadata": {},
   "source": [
    "## Criando um produto\n",
    "\n",
    "Após o processo acima, você estará apto a usar a plataforma. Faça o login e depois clique em **Products**, como indicado na imagem abaixo."
   ]
  },
  {
   "cell_type": "markdown",
   "metadata": {},
   "source": [
    "![title](tutorial_images/products_sign.PNG)"
   ]
  },
  {
   "cell_type": "markdown",
   "metadata": {},
   "source": [
    "Você cairá na página abaixo. Precisaremos da aprovação do *admin* para termos acesso ao produto *Unlimited*. Veja que no começo apenas o *Starter* aparece."
   ]
  },
  {
   "cell_type": "markdown",
   "metadata": {},
   "source": [
    "![title](tutorial_images/products_starter.PNG)"
   ]
  },
  {
   "cell_type": "markdown",
   "metadata": {},
   "source": [
    "Após a aprovação do *admin*, você verá o produto *Unlimited* aparecendo. Clique nele."
   ]
  },
  {
   "cell_type": "markdown",
   "metadata": {},
   "source": [
    "![title](tutorial_images/product_unlimited.PNG)"
   ]
  },
  {
   "cell_type": "markdown",
   "metadata": {},
   "source": [
    "Na próxima página crie um nome para seu produto e depois clique em **Subscribe**. Veja a imagem abaixo."
   ]
  },
  {
   "cell_type": "markdown",
   "metadata": {},
   "source": [
    "![title](tutorial_images/subscribe_unli.PNG)"
   ]
  },
  {
   "cell_type": "markdown",
   "metadata": {},
   "source": [
    "Após clicar em Subscribe você será direcionado para a página abaixo. Seu produto já está criado, o *admin* irá autorizá-lo e ele deverá mudar para o **State Active**, só assim para conseguirmos usá-lo. Você usará sua **Primary Key**, ela será a chave de autenticação do seu produto."
   ]
  },
  {
   "cell_type": "markdown",
   "metadata": {},
   "source": [
    "![title](tutorial_images/subs_keys.PNG)"
   ]
  },
  {
   "cell_type": "markdown",
   "metadata": {},
   "source": [
    "Pronto, vamos colocar a mão na massa e rodar alguns códigos."
   ]
  },
  {
   "cell_type": "markdown",
   "metadata": {},
   "source": [
    "## Código para enviarmos imagens \n",
    "\n",
    "Nós precisamos enviar as imagens do nosso portfólio de produtos para o [mycelia](https://mycelia.developer.azure-api.net/). A plataforma irá pegar essas imagens e criar representações numéricas delas. Afinal, um computador não entende o que é uma imagem, ele não tem olho, precisamos mostrá-las em formato de números para ele. Agora, o como a plataforma pega essas imagens e transforma em números ficará para um outro tutorial, onde explicaremos passo a passo os modelos que estão sendo usados e os papers que serviram de referência.<br>\n",
    "\n",
    "O script abaixo contém todas as funções que precisamos para enviar imagens que estão num diretório qualquer. Por padrão, enviamos imagens em formato .jpg, mas você pode mudar. Todas as funções estão com docstrings e você pode usá-las como bem entender.<br> "
   ]
  },
  {
   "cell_type": "code",
   "execution_count": 1,
   "metadata": {},
   "outputs": [],
   "source": [
    "\"\"\"\n",
    "--- send_requests.py ---\n",
    "Script que envia imagens de um diretorio para a plataforma\n",
    "mycelia.\n",
    "\"\"\"\n",
    "import base64\n",
    "import glob\n",
    "import json\n",
    "import requests\n",
    "import os\n",
    "import pandas as pd\n",
    "from pathlib import Path\n",
    "\n",
    "\n",
    "def rand_path_images(path_folder: str='data/images/*.jpg', num_images: int=5_000, \n",
    "                     read_all: bool=False) -> np.array:\n",
    "    \"\"\"Seleciona aleatoriamente uma quantidade n de imagens de um diretorio\n",
    "    \n",
    "    Params\n",
    "    ----------\n",
    "    path_folder (str): path do diretorio onde estao as imagens. Defaults to 'data/images/*.jpg'\n",
    "    \n",
    "    num_images (int): quantidade de imagens para selecionar no diretorio. Defaults to 5_000\n",
    "    \n",
    "    read_all (bool): opcao para selecionar e enviar todas as imagens de um diretorio. Defaults to False\n",
    "    \n",
    "    to_csv (bool): opcao para criarmos um csv com as imagens que enviaremos. Isso serve para \n",
    "    batermos o index de cada imagem e saber o que estamos comparando. Defaults to True\n",
    "    \n",
    "    Return\n",
    "    ----------\n",
    "    array_path_images (np.array): array com os paths das imagens que selecionamos aleatoriamente\n",
    "    \n",
    "    Exemplos\n",
    "    ----------\n",
    "    Suponha que temos um diretorio com o esquema abaixo\n",
    "    +-- data\n",
    "        +-- image_1.jpg\n",
    "        +-- image_2.jpg\n",
    "        +-- ...........\n",
    "        +-- image_99.jpg\n",
    "        +-- image_100.jpg\n",
    "        \n",
    " \n",
    "    >>> array_path_images = rand_path_images(path_folder='data/*.jpg', num_images=2)\n",
    "    >>> print(array_path_images)\n",
    "    array(['data\\\\image_55.jpg',\n",
    "           'data\\\\image_18.jpg'], dtype='<U37')\n",
    "           \n",
    "    \"\"\"\n",
    "    np.random.seed(42)\n",
    "    \n",
    "    if read_all:\n",
    "        array_path_images = np.array(glob.glob(path_folder))\n",
    "    else:\n",
    "        array_path_images = np.array(glob.glob(path_folder))\n",
    "        array_rand_idx = np.random.choice(len(array_path_images) - 1, num_images, replace=False)\n",
    "        array_path_images = array_path_images[array_rand_idx]\n",
    "    return array_path_images\n",
    "\n",
    "\n",
    "def encode_images(img_file: str):\n",
    "    \"\"\"Faz o encode das imagens\n",
    "    \n",
    "    Params\n",
    "    ---------- \n",
    "    img_file (str): string com o caminho completo de uma imagem\n",
    "    \n",
    "    Return\n",
    "    ----------\n",
    "    encoded_string (str): string que representa a imagem encodada\n",
    "    \n",
    "    Exemplos\n",
    "    ----------\n",
    "    Suponha uma imagem com o caminho 'data/image_1.jpg'\n",
    "    \n",
    "    >>> img = 'data/image_1.jpg'\n",
    "    >>> encod_img = encode_images(img)\n",
    "    >>> print(encod_img)\n",
    "    /9j/4RVxRXhpZgAASUkqAAgAAAAMAAABAwABAAAAOAQAAAEBAwABAAAAoAUAAAIBA\n",
    "    \n",
    "    \"\"\"\n",
    "    with open(img_file, \"rb\") as image_file:\n",
    "        encoded_string = base64.b64encode(image_file.read()).decode(\"utf-8\") \n",
    "    return encoded_string\n",
    "\n",
    "    \n",
    "def create_data_list(array_path_images: np.array) -> list:\n",
    "    \"\"\"Cria uma lista de dicionarios com o indice e a string da imagem encodada\n",
    "    \n",
    "    Params\n",
    "    ---------- \n",
    "    array_path_images (np.array): array com o path completo das imagens que usaremos\n",
    "    \n",
    "    Return\n",
    "    ----------\n",
    "    img_arr (list[dict]): retorna uma list de dicionarios. Este fica na forma:\n",
    "    {'index': index_da_imagem, \"image_base_64\": imagem_encodada}.\n",
    "    Os index das imagens devem ser unicos. O valor da chave \"image_base_64\" eh a saida\n",
    "    da funcao encode_images()\n",
    "    \n",
    "    Exemplos\n",
    "    ----------\n",
    "    >>> PATH_FOLDER = 'data/*.jpg'\n",
    "    >>> NUM_IMAGES = 2\n",
    "    \n",
    "    >>> array_path_images = rand_path_images(path_folder=PATH_FOLDER, num_images=NUM_IMAGES)\n",
    "    >>> img_arr = create_data_list(array_path_images=array_path_images)\n",
    "    >>> print(img_arr)\n",
    "    [{'index': 0, 'image_base64': '/9j/4RVxRXhpZgAASUkqAAgAAAA'}, \n",
    "     {'index': 1, 'image_base64': '/5h/1NXxPOqlOqFFCAkzWWeWWWW'}]\n",
    "     \n",
    "    \"\"\"\n",
    "    img_arr = []\n",
    "    for image in array_path_images:\n",
    "            encoded_img = encode_images(image)\n",
    "            idx = Path(image).stem\n",
    "            img_arr.append({\"index\": idx, \"image_base64\": encoded_img})\n",
    "            \n",
    "    return img_arr\n",
    "\n",
    "\n",
    "def send_requests(imgs: list, db_name: str, headers: dict, batch_size: int=1_000) -> None:\n",
    "    \"\"\"Envia os requests para o mycelia em batchs\n",
    "    \n",
    "    Params\n",
    "    ---------- \n",
    "    imgs (list): list de dicts. Nada mais do que a saida da funcao create_data_list()\n",
    "    \n",
    "    db_name (str): nome que daremos para a nossa base\n",
    "    \n",
    "    headers (dict): dicionario com a key sendo a string 'Auth' e o value sendo \n",
    "    a Primary Key em formato de string. Para acessar sua primary key, va na plataforma\n",
    "    mycelia e acesse Profile, aperte em Show e cole a Primary Key.\n",
    "    \n",
    "    batch_size (int): tamanho do batch que enviaremos para a plataforma mycelia\n",
    "    \n",
    "    Return\n",
    "    ----------\n",
    "    None\n",
    "    \n",
    "    Exemplos\n",
    "    ----------\n",
    "    >>> PATH_FOLDER = 'data/*.jpg'\n",
    "    >>> NUM_IMAGES = 5_000\n",
    "    >>> HEADER = {'Auth': '1237ydajndndwajd1'}\n",
    "    >>> DB_NAME = \"fashion_data_base\"\n",
    "    >>> BATCH_SIZE = 1_000\n",
    "    \n",
    "    >>> array_path_images = rand_path_images(path_folder=PATH_FOLDER, num_images=NUM_IMAGES)\n",
    "    >>> imgs = create_data_list(array_path_images=array_path_images)\n",
    "    >>> send_requests(imgs=imgs, db_name=DB_NAME, headers=HEADER, batch_size=BATCH_SIZE)\n",
    "    \n",
    "    \"\"\"\n",
    "    for i in range(0, len(imgs), batch_size):\n",
    "        begin = i\n",
    "        end = i + batch_size\n",
    "        r = requests.post(f\"https://mycelia.azure-api.net/image/{db_name}\", data=json.dumps(imgs[begin:end]), \n",
    "            headers=headers)\n",
    "        print(f\"Response: {r.text}\")\n",
    "        \n",
    "        \n",
    "# -------------------------------------------------------------------------------\n",
    "# -------------------------------------------------------------------------------\n",
    "# -------------------------------------------------------------------------------\n",
    "\n",
    "if __name__ == '__main__':\n",
    "    PATH_FOLDER = 'data/fashion-dataset/images/*.jpg'\n",
    "    NUM_IMAGES = 1_000 # quantidade de imagens que pegaremos aleatoriamente do folder acima\n",
    "    HEADER = {'Auth': 'sua_primary_key_mycelia'}\n",
    "    DB_NAME = \"nome_qualquer_que_vc_escolher\"\n",
    "    BATCH_SIZE = 1_000 # tamanho dos batchs que mandaremos\n",
    "\n",
    "    array_path_images = rand_path_images(path_folder=PATH_FOLDER, num_images=NUM_IMAGES)\n",
    "\n",
    "    imgs = create_data_list(array_path_images=array_path_images)\n",
    "    send_requests(imgs=imgs, db_name=DB_NAME, headers=HEADER, batch_size=BATCH_SIZE)"
   ]
  },
  {
   "cell_type": "markdown",
   "metadata": {},
   "source": [
    "### As constantes do código acima\n",
    "\n",
    "1. PATH_FOLDER: é o caminho do diretório onde as imagens se encontram. O final *.jpg significa que iremos ler apenas arquivos com a extensão .jpg, caso queira ler .png, basta mudar.<br><br>\n",
    "\n",
    "2. NUM_IMAGES: suponha que você tenha um diretório com 50.000 imagens, mas gostaria de mandar apenas um _sample_ de 10.000, essa constante irá controlar essa quantidade. Caso queira pegar o diretório inteiro, apenas passe True para o parâmetro **read_all** da função **rand_path_images()**.<br><br>\n",
    "\n",
    "3. HEADER: é um dicionário da forma {'Auth': 'primary_key_string'}, ou seja, o valor é a sua **Primary Key.**<br><br>\n",
    "\n",
    "4. DB_NAME: nome do database que criaremos na plataforma mycelia<br><br>\n",
    "\n",
    "5. BATCH_SIZE: por questões de infraestrutura, fica mais fácil mandar as imagens em _batchs_, estes são apenas lotes com uma quantidade de dados. Aqui no exemplo, estamos mandando _batchs_ com 1.000 imagens cada"
   ]
  },
  {
   "cell_type": "markdown",
   "metadata": {},
   "source": [
    "## Código que retorna os K itens mais similares a um item qualquer\n",
    "\n",
    "Após o [mycelia](https://mycelia.developer.azure-api.net/) transformar as imagens do nosso portfólio em representações numéricas, podemos usar essas representações e compará-las, ver quais estão mais próximas umas das outras. Por sorte, a plataforma também já faz isso, só precisamos interagir com ela."
   ]
  },
  {
   "cell_type": "code",
   "execution_count": 28,
   "metadata": {},
   "outputs": [],
   "source": [
    "\"\"\"\n",
    "--- retrieve_k_similar.py ---\n",
    "Script que retorna k itens mais similares a um item x qualquer.\n",
    "\"\"\"\n",
    "import json\n",
    "import pandas as pd\n",
    "import requests\n",
    "\n",
    "\n",
    "def list_k_similar_distance(db_name: str, idx_item: int, top_k: int) -> list:\n",
    "    \"\"\"Retorna uma lista de dicionarios com o index e a distancia dos k itens mais\n",
    "    proximos do item procurado pelo cliente.\n",
    "    \n",
    "    Params\n",
    "    ----------\n",
    "    db_name (str): string com o nome do db que voce criou na plataforma mycelia\n",
    "    \n",
    "    idx_item (int): index do item que o cliente esta procurando no momento\n",
    "    \n",
    "    top_k (int): quantidade k de itens mais proximos do item procurado pelo cliente\n",
    "    \n",
    "    Return\n",
    "    ----------\n",
    "    list_index_distance (list): lista de dicionarios com index e distancia de cada item procurado\n",
    "    \n",
    "    Exemplos\n",
    "    ----------\n",
    "    Vamos retornar os 5 itens mais proximos do item de index 1439 da base beers\n",
    "    \n",
    "    >>> TOP_K = 5 \n",
    "    >>> IDX_ITEM = 1439 \n",
    "    >>> DB_NAME = 'beers'\n",
    "    >>> list_index_distance = list_k_similar_distance(db_name=DB_NAME, idx_item=IDX_ITEM, top_k=TOP_K)\n",
    "    >>> print(list_index_distance)\n",
    "    [{'index': 1439, 'distance': 0.0},\n",
    "     {'index': 2148, 'distance': 11.271553039550781},\n",
    "     {'index': 1824, 'distance': 17.47911834716797},\n",
    "     {'index': 384, 'distance': 19.112178802490234},\n",
    "     {'index': 255, 'distance': 19.427560806274414}]\n",
    "     \n",
    "    Ele sempre retorna o mesmo item, ja que em tese ele tem distancia zero para ele mesmo - exatamente igual a ele\n",
    "    mesmo =). Ele tambem retorna os itens ja em ordem de mais similar para o menos similar.\n",
    "    \n",
    "    \"\"\"\n",
    "    dict_result_query = requests.get(f'https://mycelia.azure-api.net/clone/similar/id/{DB_NAME} \\ \n",
    "                                    ?index={IDX_ITEM}&top_k={TOP_K}').json()\n",
    "    \n",
    "    list_index_distance = dict_result_query['similarity'][0]['results']\n",
    "    return list_index_distance\n",
    "\n",
    "\n",
    "# -------------------------------------------------------------------------------\n",
    "# -------------------------------------------------------------------------------\n",
    "# -------------------------------------------------------------------------------\n",
    "\n",
    "if __name__ == '__main__':\n",
    "    TOP_K = 5 # quantidade de itens que vc quer retornar\n",
    "    IDX_ITEM = 1439 # o index do item que o cliente esta olhando\n",
    "    DB_NAME = 'nome_qualquer_que_vc_escolheu'\n",
    "    HEADER = {'Auth': 'sua_primary_key_mycelia'}\n",
    "\n",
    "    list_index_distance = list_k_similar_distance(db_name=DB_NAME, idx_item=IDX_ITEM, top_k=TOP_K)"
   ]
  }
 ],
 "metadata": {
  "kernelspec": {
   "display_name": "Python 3",
   "language": "python",
   "name": "python3"
  },
  "language_info": {
   "codemirror_mode": {
    "name": "ipython",
    "version": 3
   },
   "file_extension": ".py",
   "mimetype": "text/x-python",
   "name": "python",
   "nbconvert_exporter": "python",
   "pygments_lexer": "ipython3",
   "version": "3.8.5"
  },
  "toc": {
   "base_numbering": 1,
   "nav_menu": {},
   "number_sections": true,
   "sideBar": true,
   "skip_h1_title": false,
   "title_cell": "Table of Contents",
   "title_sidebar": "Contents",
   "toc_cell": true,
   "toc_position": {},
   "toc_section_display": true,
   "toc_window_display": false
  },
  "varInspector": {
   "cols": {
    "lenName": 16,
    "lenType": 16,
    "lenVar": 40
   },
   "kernels_config": {
    "python": {
     "delete_cmd_postfix": "",
     "delete_cmd_prefix": "del ",
     "library": "var_list.py",
     "varRefreshCmd": "print(var_dic_list())"
    },
    "r": {
     "delete_cmd_postfix": ") ",
     "delete_cmd_prefix": "rm(",
     "library": "var_list.r",
     "varRefreshCmd": "cat(var_dic_list()) "
    }
   },
   "types_to_exclude": [
    "module",
    "function",
    "builtin_function_or_method",
    "instance",
    "_Feature"
   ],
   "window_display": false
  }
 },
 "nbformat": 4,
 "nbformat_minor": 4
}
